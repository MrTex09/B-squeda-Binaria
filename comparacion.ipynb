{
 "cells": [
  {
   "cell_type": "code",
   "execution_count": 1,
   "metadata": {},
   "outputs": [],
   "source": [
    "def busqueda_lineal(lista, objetivo):\n",
    "    for indice, elemento in enumerate(lista):\n",
    "        if elemento == objetivo:\n",
    "            return indice\n",
    "    return -1\n",
    "\n",
    "\n"
   ]
  },
  {
   "cell_type": "markdown",
   "metadata": {},
   "source": [
    "busqueda lineal"
   ]
  },
  {
   "cell_type": "code",
   "execution_count": 2,
   "metadata": {},
   "outputs": [],
   "source": [
    "def busqueda_binaria(lista, objetivo):\n",
    "    izquierda, derecha = 0, len(lista) - 1\n",
    "    while izquierda <= derecha:\n",
    "        medio = (izquierda + derecha) // 2\n",
    "        if lista[medio] == objetivo:\n",
    "            return medio\n",
    "        elif lista[medio] < objetivo:\n",
    "            izquierda = medio + 1\n",
    "        else:\n",
    "            derecha = medio - 1\n",
    "    return -1\n",
    "# Definición de datos de prueba\n",
    "lista_desordenada = [4, 2, 5, 1, 3]\n",
    "lista_ordenada = sorted(lista_desordenada)\n",
    "objetivo_presente = 3\n",
    "objetivo_ausente = 6\n",
    "\n",
    "\n"
   ]
  },
  {
   "cell_type": "markdown",
   "metadata": {},
   "source": [
    "busqueda binaria"
   ]
  },
  {
   "cell_type": "code",
   "execution_count": 3,
   "metadata": {},
   "outputs": [
    {
     "name": "stdout",
     "output_type": "stream",
     "text": [
      "4\n",
      "-1\n",
      "2\n",
      "-1\n"
     ]
    }
   ],
   "source": [
    "# Definición de datos de prueba\n",
    "lista_desordenada = [4, 2, 5, 1, 3]\n",
    "lista_ordenada = sorted(lista_desordenada)\n",
    "objetivo_presente = 3\n",
    "objetivo_ausente = 6\n",
    "\n",
    "# Pruebas de Búsqueda Lineal\n",
    "print(busqueda_lineal(lista_desordenada, objetivo_presente))  # Debe retornar 4\n",
    "print(busqueda_lineal(lista_desordenada, objetivo_ausente))   # Debe retornar -1\n",
    "\n",
    "\n",
    "# Pruebas de Búsqueda Binaria\n",
    "print(busqueda_binaria(lista_ordenada, objetivo_presente))    # Debe retornar 2\n",
    "print(busqueda_binaria(lista_ordenada, objetivo_ausente))     # Debe retornar -1"
   ]
  },
  {
   "cell_type": "markdown",
   "metadata": {},
   "source": [
    "pruebas"
   ]
  },
  {
   "cell_type": "code",
   "execution_count": 4,
   "metadata": {},
   "outputs": [
    {
     "name": "stdout",
     "output_type": "stream",
     "text": [
      "Tiempo de búsqueda lineal: 0.019987 segundos\n",
      "Tiempo de búsqueda binaria: 0.000000 segundos\n"
     ]
    }
   ],
   "source": [
    "import time\n",
    "\n",
    "# Función para medir el tiempo de ejecución\n",
    "def medir_tiempo(func, *args):\n",
    "    inicio = time.time()\n",
    "    resultado = func(*args)\n",
    "    fin = time.time()\n",
    "    return resultado, fin - inicio\n",
    "\n",
    "# Datos de prueba grandes\n",
    "import random\n",
    "datos_grandes = random.sample(range(1000000), 100000)\n",
    "\n",
    "# Pruebas de eficiencia\n",
    "_, tiempo_lineal = medir_tiempo(busqueda_lineal, datos_grandes, datos_grandes[50000])\n",
    "_, tiempo_binaria = medir_tiempo(busqueda_binaria, sorted(datos_grandes), datos_grandes[50000])\n",
    "\n",
    "print(f\"Tiempo de búsqueda lineal: {tiempo_lineal:.6f} segundos\")\n",
    "print(f\"Tiempo de búsqueda binaria: {tiempo_binaria:.6f} segundos\")\n"
   ]
  },
  {
   "cell_type": "markdown",
   "metadata": {},
   "source": [
    "comparacion"
   ]
  }
 ],
 "metadata": {
  "kernelspec": {
   "display_name": "Python 3",
   "language": "python",
   "name": "python3"
  },
  "language_info": {
   "codemirror_mode": {
    "name": "ipython",
    "version": 3
   },
   "file_extension": ".py",
   "mimetype": "text/x-python",
   "name": "python",
   "nbconvert_exporter": "python",
   "pygments_lexer": "ipython3",
   "version": "3.12.2"
  }
 },
 "nbformat": 4,
 "nbformat_minor": 2
}
